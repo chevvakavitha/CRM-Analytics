{
  "metadata": {
    "kernelspec": {
      "language": "python",
      "display_name": "Python 3",
      "name": "python3"
    },
    "language_info": {
      "pygments_lexer": "ipython3",
      "nbconvert_exporter": "python",
      "version": "3.6.4",
      "file_extension": ".py",
      "codemirror_mode": {
        "name": "ipython",
        "version": 3
      },
      "name": "python",
      "mimetype": "text/x-python"
    },
    "colab": {
      "provenance": [],
      "include_colab_link": true
    }
  },
  "nbformat_minor": 0,
  "nbformat": 4,
  "cells": [
    {
      "cell_type": "markdown",
      "metadata": {
        "id": "view-in-github",
        "colab_type": "text"
      },
      "source": [
        "<a href=\"https://colab.research.google.com/github/chevvakavitha/CRM-Analytics/blob/main/customer_relationship_management_crm_analytics.ipynb\" target=\"_parent\"><img src=\"https://colab.research.google.com/assets/colab-badge.svg\" alt=\"Open In Colab\"/></a>"
      ]
    },
    {
      "cell_type": "markdown",
      "source": [
        "# Introduction\n",
        "Customer Relationship Management (CRM) system is an information management and analysis tool that can help businesses and other organizations manage their interactions with customers.\n",
        "\n",
        "CRMs were originally designed to target large corporations, but the internet has allowed small business owners to take advantage of these tools as well. Customer data is collected in a CRM database, which allows for advanced analysis such as customer segmentation and contact history.\n",
        "\n",
        "In this notebook, we will be explaining how you can apply your customer relationship management system to analyze your customer base in order to increase revenue through better marketing campaigns!\n",
        "\n",
        "<font color = 'blue'>\n",
        "Content:\n",
        "\n",
        "1. [CRM - Customer Relationship Management](#1)\n",
        "1. [Key Performance Indicators](#2)\n",
        "1. [Cohort Analysis](#3)\n",
        "1. [Business Problem](#4)\n",
        "    * [Dataset Story](#5)\n",
        "    * [Variables](#6)\n",
        "1. [Libraries](#7)\n",
        "1. [Load and Check Data](#8)\n",
        "    * [Data Preprocessing](#9)\n",
        "    * [Outlier Observations](#10)\n",
        "1. [Exploratory Data Analysis](#11)\n",
        "    * [Categorical Variables](#12)\n",
        "    * [Numerical Variables](#13)\n",
        "1. [Customer Segmentation With RFM](#14)\n",
        "    * [Preparation of RFM Metrics](#15)\n",
        "    * [Generating RFM Scores](#16)\n",
        "    * [Segmenting Customers Based on RFM Scores](#17)\n",
        "    * [Visualization of RFM Segments](#18)\n",
        "1. [CLTV - Customer Lifetime Value](#19)\n",
        "    * [Preparation Data Structure of CLTV](#20)\n",
        "    * [BG - NBD Model](#21)\n",
        "    * [Gamma Gamma Model](#22)\n",
        "    * [BG - NBD and GG Model For Prediction](#23)\n",
        "    * [Segmentation on CLTV Forecasts](#24)\n",
        "1. [References](#25)\n",
        "\n",
        "\n"
      ],
      "metadata": {
        "id": "mvzfXBpzCfpu"
      }
    },
    {
      "cell_type": "markdown",
      "source": [
        "<a id = \"1\"></a><br>\n",
        "# Customer Relationship Management\n",
        "### Definition of CRM\n",
        "> Customer relationship management (CRM) is a process in which a business or other organization administers its interactions with customers, typically using data analysis to study large amounts of information.\n",
        "\n",
        "\n",
        "## CRM Analytic\n",
        "* Customer lifecycle optimizations: Refers to the customer's journey. It starts from the time of contacting the company. Initial points of contact: registration process, social media post etc.\n",
        "* Internal and External Communications: Language, colour, images, campaigns\n",
        "* Customer acquisition\n",
        "* Customer retention (abandonment/churn)\n",
        "* Cross-sell, up-sell\n",
        "* Customer segmentation studies: These are strategy development studies by dividing customers into groups.\n",
        "\n",
        "**Purpose:** It is an effort to make the entire customer relations process more efficient based on data. Sometimes it means effort, time, strategy development, more work with less effort, process optimization."
      ],
      "metadata": {
        "id": "ZM3Dt5xsCfpy"
      }
    },
    {
      "cell_type": "markdown",
      "source": [
        "<a id = \"2\"></a><br>\n",
        "# KPIs - KEY PERFORMANCE INDICATORS\n",
        "A performance indicator or key performance indicator (KPI) is a sort of performance measurement that assesses the success of an organization or a specific activity (such as projects, programs, products, and other initiatives). KPIs evaluate the efficacy of an organization or any other activity in which it participates.\n",
        "\n",
        "* Customer Acquisition Rate\n",
        "* Customer Retention Rate\n",
        "* Customer Churn Rate\n",
        "* Conversion Rate\n"
      ],
      "metadata": {
        "id": "NtHGC5kmCfpz"
      }
    },
    {
      "cell_type": "markdown",
      "source": [
        "<a id = \"3\"></a><br>\n",
        "# Cohort Analysis\n",
        "Cohort analysis is a type of behavioral analytics that separates the data in a data set into comparable groups before analysis. These units, or cohorts, are usually characterized by similar qualities or events over a specific timespan.\n",
        "\n",
        "Analysis of a customer's (or user's) behavior across the lifecycle might reveal important trends. By breaking down customers into smaller groups, you can better see patterns throughout each customer's life cycle rather than just looking at all clients uniformly without regard for the natural cycle that a client goes through.\n",
        "\n",
        "**Cohort:** A group of people with common characteristics.\n",
        "\n",
        "**Cohort Analysis:** It is the analysis of the behavior of a group of people with common characteristics.\n",
        "\n",
        "**Note:** Chort analysis and KPI Analysis is not the place for Python. Power Bl, Data Studio, Tableu, Clickview are their places. This is not the job of a data scientist. It is the job of the business analyst, it is the job of the crm analyst."
      ],
      "metadata": {
        "id": "iVveD3A2Cfpz"
      }
    },
    {
      "cell_type": "markdown",
      "source": [
        "<a id = \"4\"></a><br>\n",
        "# Business Problem\n"
      ],
      "metadata": {
        "id": "6jw-Oa7vCfpz"
      }
    },
    {
      "cell_type": "markdown",
      "source": [
        "An e-commerce company wants to segment its customers and determine marketing strategies according to these segments. For example, it is desired to organize different campaigns for new customers and different campaigns in order to retain customers that are very profitable for the company."
      ],
      "metadata": {
        "id": "HFno9x2yCfp0"
      }
    },
    {
      "cell_type": "markdown",
      "source": [
        "<a id = \"5\"></a><br>\n",
        "## Dataset Story\n",
        "* The dataset includes sales between 01/12/2009 - 09/12/2011.\n",
        "* In this project, the years 2010-2011 will be examined.\n",
        "* The product catalog of this company includes souvenirs.\n",
        "* The vast majority of the company's customers are corporate customers."
      ],
      "metadata": {
        "id": "J2VpMOqvCfp0"
      }
    },
    {
      "cell_type": "markdown",
      "source": [
        "<a id = \"6\"></a><br>\n",
        "## Variables\n",
        "* **InvoiceNo**: Invoice number. The unique number of each transaction, namely the invoice. Aborted operation if it starts with C.\n",
        "* **StockCode**: Product code. Unique number for each product.\n",
        "* **Description**: Product name\n",
        "* **Quantity**: Number of products. It expresses how many of the products on the invoices have been sold.\n",
        "* **InvoiceDate**: Invoice date and time.\n",
        "* **UnitPrice**: Product price (in GBP)\n",
        "* **CustomerID**: Unique customer number\n",
        "* **Country**: The country where the customer lives."
      ],
      "metadata": {
        "id": "7F2jxya3Cfp0"
      }
    },
    {
      "cell_type": "markdown",
      "source": [
        "<a id = \"7\"></a><br>\n",
        "# LIBRARIES"
      ],
      "metadata": {
        "id": "j0GzbiYOCfp0"
      }
    },
    {
      "cell_type": "code",
      "source": [
        "# installlation required\n",
        "!pip install Lifetimes\n",
        "!pip install openpyxl\n",
        "# libraries\n",
        "from sqlalchemy import create_engine\n",
        "import datetime as dt\n",
        "import pandas as pd\n",
        "import seaborn as sns\n",
        "import matplotlib.pyplot as plt\n",
        "from lifetimes import BetaGeoFitter\n",
        "from lifetimes import GammaGammaFitter\n",
        "from lifetimes.plotting import plot_period_transactions\n",
        "from sklearn.preprocessing import MinMaxScaler\n",
        "import squarify  # treemap\n",
        "import warnings\n",
        "warnings.filterwarnings(\"ignore\")\n",
        "\n",
        "import os\n",
        "for dirname, _, filenames in os.walk('/kaggle/input'):\n",
        "    for filename in filenames:\n",
        "        print(os.path.join(dirname, filename))"
      ],
      "metadata": {
        "execution": {
          "iopub.status.busy": "2021-09-15T11:59:37.295326Z",
          "iopub.execute_input": "2021-09-15T11:59:37.295724Z",
          "iopub.status.idle": "2021-09-15T11:59:53.721615Z",
          "shell.execute_reply.started": "2021-09-15T11:59:37.295626Z",
          "shell.execute_reply": "2021-09-15T11:59:53.720577Z"
        },
        "trusted": true,
        "id": "KiH05E4NCfp1"
      },
      "execution_count": null,
      "outputs": []
    },
    {
      "cell_type": "markdown",
      "source": [
        "<a id = \"8\"></a><br>\n",
        "# Load and Check Data\n",
        "We've copied the path from the output above."
      ],
      "metadata": {
        "id": "Rw9mbf0TCfp3"
      }
    },
    {
      "cell_type": "code",
      "source": [
        "\n",
        "df_2010_2011 = pd.read_excel(\"../input/online-retail-ii-data-set-from-ml-repository/online_retail_II.xlsx\", sheet_name = \"Year 2010-2011\")\n",
        "\n",
        "#online_retail = pd.read_csv(\"/kaggle/input/online-retail-ii-data-set-from-ml-repository/Year 2010-2011.csv\", sep=\";\")\n",
        "df = df_2010_2011.copy()\n",
        "df.head()"
      ],
      "metadata": {
        "execution": {
          "iopub.status.busy": "2021-09-15T11:59:53.723724Z",
          "iopub.execute_input": "2021-09-15T11:59:53.724075Z",
          "iopub.status.idle": "2021-09-15T12:01:22.148787Z",
          "shell.execute_reply.started": "2021-09-15T11:59:53.724035Z",
          "shell.execute_reply": "2021-09-15T12:01:22.147885Z"
        },
        "trusted": true,
        "id": "8PZpte6UCfp3"
      },
      "execution_count": null,
      "outputs": []
    },
    {
      "cell_type": "code",
      "source": [
        "# We deal with purchases in our analysis. Therefore, we have excluded returns from the data.\n",
        "df = df[~df[\"Invoice\"].str.contains(\"C\", na=False)]\n",
        "df.shape"
      ],
      "metadata": {
        "execution": {
          "iopub.status.busy": "2021-09-15T12:01:22.150002Z",
          "iopub.execute_input": "2021-09-15T12:01:22.150622Z",
          "iopub.status.idle": "2021-09-15T12:01:23.131909Z",
          "shell.execute_reply.started": "2021-09-15T12:01:22.150579Z",
          "shell.execute_reply": "2021-09-15T12:01:23.130876Z"
        },
        "trusted": true,
        "id": "nqOqEaB8Cfp3"
      },
      "execution_count": null,
      "outputs": []
    },
    {
      "cell_type": "markdown",
      "source": [
        "<a id = \"9\"></a><br>\n",
        "## Data Preprocessing"
      ],
      "metadata": {
        "id": "z49bm9PmCfp4"
      }
    },
    {
      "cell_type": "code",
      "source": [
        "def check_df(dataframe):\n",
        "    print(\"################ Shape ####################\")\n",
        "    print(dataframe.shape)\n",
        "    print(\"############### Columns ###################\")\n",
        "    print(dataframe.columns)\n",
        "    print(\"############### Types #####################\")\n",
        "    print(dataframe.dtypes)\n",
        "    print(\"############### Head ######################\")\n",
        "    print(dataframe.head())\n",
        "    print(\"############### Tail ######################\")\n",
        "    print(dataframe.tail())\n",
        "    print(\"############### Describe ###################\")\n",
        "    print(dataframe.describe().T)\n",
        "\n",
        "check_df(df)"
      ],
      "metadata": {
        "execution": {
          "iopub.status.busy": "2021-09-15T12:01:23.134286Z",
          "iopub.execute_input": "2021-09-15T12:01:23.134653Z",
          "iopub.status.idle": "2021-09-15T12:01:23.221901Z",
          "shell.execute_reply.started": "2021-09-15T12:01:23.134601Z",
          "shell.execute_reply": "2021-09-15T12:01:23.220983Z"
        },
        "trusted": true,
        "id": "e8g70wlYCfp4"
      },
      "execution_count": null,
      "outputs": []
    },
    {
      "cell_type": "code",
      "source": [
        "df.isnull().sum()"
      ],
      "metadata": {
        "execution": {
          "iopub.status.busy": "2021-09-15T12:01:23.223187Z",
          "iopub.execute_input": "2021-09-15T12:01:23.223464Z",
          "iopub.status.idle": "2021-09-15T12:01:23.471913Z",
          "shell.execute_reply.started": "2021-09-15T12:01:23.223432Z",
          "shell.execute_reply": "2021-09-15T12:01:23.470623Z"
        },
        "trusted": true,
        "id": "l0blUFIVCfp4"
      },
      "execution_count": null,
      "outputs": []
    },
    {
      "cell_type": "code",
      "source": [
        "df.dropna(inplace=True)\n",
        "df.isnull().sum()"
      ],
      "metadata": {
        "execution": {
          "iopub.status.busy": "2021-09-15T12:01:23.473304Z",
          "iopub.execute_input": "2021-09-15T12:01:23.473658Z",
          "iopub.status.idle": "2021-09-15T12:01:23.940412Z",
          "shell.execute_reply.started": "2021-09-15T12:01:23.473616Z",
          "shell.execute_reply": "2021-09-15T12:01:23.939606Z"
        },
        "trusted": true,
        "id": "3M3OyW7kCfp4"
      },
      "execution_count": null,
      "outputs": []
    },
    {
      "cell_type": "markdown",
      "source": [
        "<a id = \"10\"></a><br>\n",
        "## Outlier Observations"
      ],
      "metadata": {
        "id": "ZQ4n6lmtCfp4"
      }
    },
    {
      "cell_type": "code",
      "source": [
        "def outlier_thresholds(dataframe, variable):\n",
        "    quartile1 = dataframe[variable].quantile(0.01)\n",
        "    quartile3 = dataframe[variable].quantile(0.99)\n",
        "    interquantile_range = quartile3 - quartile1\n",
        "    up_limit = quartile3 + 1.5 * interquantile_range\n",
        "    low_limit = quartile1 - 1.5 * interquantile_range\n",
        "    return low_limit, up_limit\n",
        "\n",
        "def replace_with_thresholds(dataframe, variable):\n",
        "    low_limit, up_limit = outlier_thresholds(dataframe, variable)\n",
        "    dataframe.loc[(dataframe[variable] < low_limit), variable] = low_limit\n",
        "    dataframe.loc[(dataframe[variable] > up_limit), variable] = up_limit\n",
        "\n",
        "replace_with_thresholds(df, \"Quantity\")\n",
        "replace_with_thresholds(df, \"Price\")"
      ],
      "metadata": {
        "execution": {
          "iopub.status.busy": "2021-09-15T12:01:23.941815Z",
          "iopub.execute_input": "2021-09-15T12:01:23.942146Z",
          "iopub.status.idle": "2021-09-15T12:01:23.984791Z",
          "shell.execute_reply.started": "2021-09-15T12:01:23.942104Z",
          "shell.execute_reply": "2021-09-15T12:01:23.983928Z"
        },
        "trusted": true,
        "id": "q5HEj0WcCfp5"
      },
      "execution_count": null,
      "outputs": []
    },
    {
      "cell_type": "markdown",
      "source": [
        "<a id = \"11\"></a><br>\n",
        "# Exploratory Data Analysis"
      ],
      "metadata": {
        "id": "HOz3xDTSCfp5"
      }
    },
    {
      "cell_type": "markdown",
      "source": [
        "<a id = \"12\"></a><br>\n",
        "## Categorical Variables"
      ],
      "metadata": {
        "id": "0GVOSeg5Cfp5"
      }
    },
    {
      "cell_type": "code",
      "source": [
        "cat_cols = [col for col in df.columns if df[col].dtypes ==\"O\"]\n",
        "cat_but_car = [col for col in df.columns if df[col].nunique() > 100 and df[col].dtypes == \"O\"]\n",
        "cat_cols = [col for col in cat_cols if col not in cat_but_car]\n",
        "cat_cols"
      ],
      "metadata": {
        "execution": {
          "iopub.status.busy": "2021-09-15T12:01:23.986148Z",
          "iopub.execute_input": "2021-09-15T12:01:23.986849Z",
          "iopub.status.idle": "2021-09-15T12:01:24.1463Z",
          "shell.execute_reply.started": "2021-09-15T12:01:23.986814Z",
          "shell.execute_reply": "2021-09-15T12:01:24.145604Z"
        },
        "trusted": true,
        "id": "_74dbNXECfp5"
      },
      "execution_count": null,
      "outputs": []
    },
    {
      "cell_type": "code",
      "source": [
        "def cat_summary(dataframe, col_name, plot=False):\n",
        "    print(pd.DataFrame({col_name: dataframe[col_name].value_counts(),\n",
        "                        \"Ratio\": 100 * dataframe[col_name].value_counts() / len(dataframe)}))\n",
        "    print(\"##########################################\")\n",
        "    if plot:\n",
        "        fig_dims = (15, 5)\n",
        "        fig, ax = plt.subplots(figsize=fig_dims)\n",
        "        sns.countplot(x=dataframe[col_name], data=dataframe)\n",
        "        plt.xticks(rotation = 45, ha = 'right')\n",
        "        plt.show()\n",
        "\n",
        "cat_summary(df, \"Country\", plot=True)"
      ],
      "metadata": {
        "execution": {
          "iopub.status.busy": "2021-09-15T12:01:24.147234Z",
          "iopub.execute_input": "2021-09-15T12:01:24.147956Z",
          "iopub.status.idle": "2021-09-15T12:01:25.394749Z",
          "shell.execute_reply.started": "2021-09-15T12:01:24.147922Z",
          "shell.execute_reply": "2021-09-15T12:01:25.393787Z"
        },
        "trusted": true,
        "id": "kU3R-B_WCfp5"
      },
      "execution_count": null,
      "outputs": []
    },
    {
      "cell_type": "markdown",
      "source": [
        "<a id = \"13\"></a><br>\n",
        "## Numerical Variables"
      ],
      "metadata": {
        "id": "pyrEYDjeCfp6"
      }
    },
    {
      "cell_type": "code",
      "source": [
        "num_cols = [col for col in df.columns if df[col].dtypes != 'O' and col not in \"Customer ID\"]\n",
        "num_cols"
      ],
      "metadata": {
        "execution": {
          "iopub.status.busy": "2021-09-15T12:01:25.39759Z",
          "iopub.execute_input": "2021-09-15T12:01:25.397943Z",
          "iopub.status.idle": "2021-09-15T12:01:25.40585Z",
          "shell.execute_reply.started": "2021-09-15T12:01:25.397908Z",
          "shell.execute_reply": "2021-09-15T12:01:25.404709Z"
        },
        "trusted": true,
        "id": "IrpnNLuNCfp6"
      },
      "execution_count": null,
      "outputs": []
    },
    {
      "cell_type": "code",
      "source": [
        "def num_summary(dataframe, numerical_col, plot=False):\n",
        "    quantiles = [0.05, 0.10, 0.20, 0.30, 0.40, 0.50, 0.60, 0.70, 0.80, 0.90, 0.95, 0.99]\n",
        "    print(dataframe[numerical_col].describe(quantiles).T)\n",
        "\n",
        "    if plot:\n",
        "        dataframe[numerical_col].hist(bins=20)\n",
        "        plt.xlabel(numerical_col)\n",
        "        plt.title(numerical_col)\n",
        "        plt.show()\n",
        "\n",
        "for col in num_cols:\n",
        "    num_summary(df, col, plot=True)"
      ],
      "metadata": {
        "execution": {
          "iopub.status.busy": "2021-09-15T12:01:25.407284Z",
          "iopub.execute_input": "2021-09-15T12:01:25.407622Z",
          "iopub.status.idle": "2021-09-15T12:01:26.144431Z",
          "shell.execute_reply.started": "2021-09-15T12:01:25.407583Z",
          "shell.execute_reply": "2021-09-15T12:01:26.143341Z"
        },
        "trusted": true,
        "id": "5423UGgwCfp6"
      },
      "execution_count": null,
      "outputs": []
    },
    {
      "cell_type": "code",
      "source": [
        "# unique product\n",
        "df[\"StockCode\"].nunique()"
      ],
      "metadata": {
        "execution": {
          "iopub.status.busy": "2021-09-15T12:01:26.146084Z",
          "iopub.execute_input": "2021-09-15T12:01:26.146398Z",
          "iopub.status.idle": "2021-09-15T12:01:26.170183Z",
          "shell.execute_reply.started": "2021-09-15T12:01:26.146368Z",
          "shell.execute_reply": "2021-09-15T12:01:26.169344Z"
        },
        "trusted": true,
        "id": "ZBbqZDXiCfp6"
      },
      "execution_count": null,
      "outputs": []
    },
    {
      "cell_type": "code",
      "source": [
        "# How many sales for each product?\n",
        "df_product = df.groupby(\"Description\").agg({\"Quantity\":\"count\"})\n",
        "df_product.reset_index(inplace=True)\n",
        "df_product"
      ],
      "metadata": {
        "execution": {
          "iopub.status.busy": "2021-09-15T12:01:26.171834Z",
          "iopub.execute_input": "2021-09-15T12:01:26.172108Z",
          "iopub.status.idle": "2021-09-15T12:01:26.249912Z",
          "shell.execute_reply.started": "2021-09-15T12:01:26.172078Z",
          "shell.execute_reply": "2021-09-15T12:01:26.249233Z"
        },
        "trusted": true,
        "id": "-2V61pUKCfp7"
      },
      "execution_count": null,
      "outputs": []
    },
    {
      "cell_type": "code",
      "source": [
        "# Top 10 Products\n",
        "top_pr= df_product.sort_values(by=\"Quantity\",ascending=False).head(10)\n",
        "\n",
        "sns.barplot(x=\"Description\", y=\"Quantity\", data=top_pr)\n",
        "plt.xticks(rotation=90)\n",
        "plt.show()"
      ],
      "metadata": {
        "execution": {
          "iopub.status.busy": "2021-09-15T12:01:26.25103Z",
          "iopub.execute_input": "2021-09-15T12:01:26.251486Z",
          "iopub.status.idle": "2021-09-15T12:01:26.486857Z",
          "shell.execute_reply.started": "2021-09-15T12:01:26.251449Z",
          "shell.execute_reply": "2021-09-15T12:01:26.485896Z"
        },
        "trusted": true,
        "id": "9ylxeOunCfp7"
      },
      "execution_count": null,
      "outputs": []
    },
    {
      "cell_type": "code",
      "source": [
        "# total price per invoice\n",
        "df[\"TotalPrice\"] = df[\"Price\"] * df[\"Quantity\"]"
      ],
      "metadata": {
        "execution": {
          "iopub.status.busy": "2021-09-15T12:01:26.488233Z",
          "iopub.execute_input": "2021-09-15T12:01:26.488571Z",
          "iopub.status.idle": "2021-09-15T12:01:26.495563Z",
          "shell.execute_reply.started": "2021-09-15T12:01:26.488528Z",
          "shell.execute_reply": "2021-09-15T12:01:26.494561Z"
        },
        "trusted": true,
        "id": "PcRKk0HxCfp7"
      },
      "execution_count": null,
      "outputs": []
    },
    {
      "cell_type": "markdown",
      "source": [
        "<a id = \"14\"></a><br>\n",
        "# Customer Segmentation With RFM\n",
        "## WHAT IS RFM?\n",
        "\n",
        "The RFM method is a tool for assessing consumer value. It's frequently utilized in database marketing and direct marketing, as well as retail and professional services.\n",
        "\n",
        "RFM stands for the three dimensions:\n",
        "\n",
        "* **Recency:** How recently did the customer purchase?\n",
        "* **Frequency:** How often do they purchase?\n",
        "* **Monetary Value:** How much do they spend?\n"
      ],
      "metadata": {
        "id": "I2SoWpMVCfp7"
      }
    },
    {
      "cell_type": "markdown",
      "source": [
        "<a id = \"15\"></a><br>\n",
        "# Preparation of RFM Metrics\n",
        "* **recency:** the difference between today and the customer's last purchase date, in days\n",
        "* **frequency:** customer's shopping frequency\n",
        "* **monetary:** total money paid by the customer"
      ],
      "metadata": {
        "id": "TIPzcjNmCfp8"
      }
    },
    {
      "cell_type": "code",
      "source": [
        "# Determining the analysis date for the recency\n",
        "df[\"InvoiceDate\"] = pd.to_datetime(df[\"InvoiceDate\"])\n",
        "df[\"InvoiceDate\"].max()\n",
        "today_date = dt.datetime(2011, 12, 11)"
      ],
      "metadata": {
        "execution": {
          "iopub.status.busy": "2021-09-15T12:01:26.496948Z",
          "iopub.execute_input": "2021-09-15T12:01:26.497184Z",
          "iopub.status.idle": "2021-09-15T12:01:26.534089Z",
          "shell.execute_reply.started": "2021-09-15T12:01:26.497157Z",
          "shell.execute_reply": "2021-09-15T12:01:26.533145Z"
        },
        "trusted": true,
        "id": "FacidcvdCfp8"
      },
      "execution_count": null,
      "outputs": []
    },
    {
      "cell_type": "code",
      "source": [
        "# Generating RFM metrics\n",
        "rfm = df.groupby(\"Customer ID\").agg({\"InvoiceDate\": lambda InvıiceDate: (today_date- InvıiceDate.max()).days,\n",
        "                                    \"Invoice\": lambda Invoice: Invoice.nunique(),\n",
        "                                    \"TotalPrice\": lambda TotalPrice: TotalPrice.sum()})\n",
        "\n",
        "rfm.columns = [\"recency\",\"frequency\",\"monetary\"]\n",
        "rfm.describe().T"
      ],
      "metadata": {
        "execution": {
          "iopub.status.busy": "2021-09-15T12:01:26.535549Z",
          "iopub.execute_input": "2021-09-15T12:01:26.535796Z",
          "iopub.status.idle": "2021-09-15T12:01:27.723264Z",
          "shell.execute_reply.started": "2021-09-15T12:01:26.535768Z",
          "shell.execute_reply": "2021-09-15T12:01:27.722237Z"
        },
        "trusted": true,
        "id": "CFrJLjz-Cfp8"
      },
      "execution_count": null,
      "outputs": []
    },
    {
      "cell_type": "code",
      "source": [
        "# monetary, the min value of the total money paid can't be 0\n",
        "# let's remove them from the data\n",
        "\n",
        "rfm = rfm[rfm[\"monetary\"] > 0]\n",
        "rfm.describe().T"
      ],
      "metadata": {
        "execution": {
          "iopub.status.busy": "2021-09-15T12:01:27.725134Z",
          "iopub.execute_input": "2021-09-15T12:01:27.725497Z",
          "iopub.status.idle": "2021-09-15T12:01:27.753065Z",
          "shell.execute_reply.started": "2021-09-15T12:01:27.725453Z",
          "shell.execute_reply": "2021-09-15T12:01:27.752198Z"
        },
        "trusted": true,
        "id": "NtXlUJSUCfp9"
      },
      "execution_count": null,
      "outputs": []
    },
    {
      "cell_type": "markdown",
      "source": [
        "<a id = \"16\"></a><br>\n",
        "## Generating RFM Scores"
      ],
      "metadata": {
        "id": "EoGPznfeCfp9"
      }
    },
    {
      "cell_type": "code",
      "source": [
        "# recency_score\n",
        "rfm[\"recency_score\"] = pd.qcut(rfm['recency'], 5, labels=[5, 4, 3, 2, 1])\n",
        "# frequency_score\n",
        "rfm[\"frequency_score\"] = pd.qcut(rfm[\"frequency\"].rank(method=\"first\"), 5, labels=[1, 2, 3, 4, 5])\n",
        "# monetary_score\n",
        "rfm[\"monetary_score\"] = pd.qcut(rfm[\"monetary\"], 5, labels=[1, 2, 3, 4, 5])\n",
        "\n",
        "#  RFM Score\n",
        "rfm[\"RFM_SCORE\"] = (rfm[\"recency_score\"].astype(str) + rfm[\"frequency_score\"].astype(str))\n",
        "rfm.head(10)"
      ],
      "metadata": {
        "execution": {
          "iopub.status.busy": "2021-09-15T12:01:27.754697Z",
          "iopub.execute_input": "2021-09-15T12:01:27.75497Z",
          "iopub.status.idle": "2021-09-15T12:01:27.789146Z",
          "shell.execute_reply.started": "2021-09-15T12:01:27.754939Z",
          "shell.execute_reply": "2021-09-15T12:01:27.788306Z"
        },
        "trusted": true,
        "id": "n-wPTSKxCfp9"
      },
      "execution_count": null,
      "outputs": []
    },
    {
      "cell_type": "markdown",
      "source": [
        "<a id = \"17\"></a><br>\n",
        "# Segmenting Customers Based on RFM Scores\n"
      ],
      "metadata": {
        "id": "PlzQKx9PCfp9"
      }
    },
    {
      "cell_type": "code",
      "source": [
        "seg_map = {\n",
        "    r'[1-2][1-2]': 'hibernating',\n",
        "    r'[1-2][3-4]': 'at_Risk',\n",
        "    r'[1-2]5': 'cant_loose',\n",
        "    r'3[1-2]': 'about_to_sleep',\n",
        "    r'33': 'need_attention',\n",
        "    r'[3-4][4-5]': 'loyal_customers',\n",
        "    r'41': 'promising',\n",
        "    r'51': 'new_customers',\n",
        "    r'[4-5][2-3]': 'potential_loyalists',\n",
        "    r'5[4-5]': 'champions'\n",
        "}\n",
        "rfm['segment'] = rfm['RFM_SCORE'].replace(seg_map, regex=True)\n",
        "rfm.head(10)"
      ],
      "metadata": {
        "execution": {
          "iopub.status.busy": "2021-09-15T12:01:27.790475Z",
          "iopub.execute_input": "2021-09-15T12:01:27.790712Z",
          "iopub.status.idle": "2021-09-15T12:01:27.90231Z",
          "shell.execute_reply.started": "2021-09-15T12:01:27.790684Z",
          "shell.execute_reply": "2021-09-15T12:01:27.901302Z"
        },
        "trusted": true,
        "id": "NFdZO3rjCfp-"
      },
      "execution_count": null,
      "outputs": []
    },
    {
      "cell_type": "code",
      "source": [
        "# Let's group RFM mean and frequency values according to segments\n",
        "rfm[[\"segment\", \"recency\", \"frequency\", \"monetary\"]].groupby(\"segment\").agg([\"mean\", \"count\"])"
      ],
      "metadata": {
        "execution": {
          "iopub.status.busy": "2021-09-15T12:01:27.903934Z",
          "iopub.execute_input": "2021-09-15T12:01:27.904627Z",
          "iopub.status.idle": "2021-09-15T12:01:27.931542Z",
          "shell.execute_reply.started": "2021-09-15T12:01:27.904581Z",
          "shell.execute_reply": "2021-09-15T12:01:27.930653Z"
        },
        "trusted": true,
        "id": "T3Jziu1rCfqQ"
      },
      "execution_count": null,
      "outputs": []
    },
    {
      "cell_type": "markdown",
      "source": [
        "<a id = \"18\"></a><br>\n",
        "# Visualization of RFM Segments"
      ],
      "metadata": {
        "id": "AoLONxZRCfqQ"
      }
    },
    {
      "cell_type": "code",
      "source": [
        "sgm= rfm[\"segment\"].value_counts()\n",
        "plt.figure(figsize=(10,7))\n",
        "sns.barplot(x=sgm.index,y=sgm.values)\n",
        "plt.xticks(rotation=45)\n",
        "plt.title('Customer Segments',color = 'blue',fontsize=15)\n",
        "plt.show()"
      ],
      "metadata": {
        "execution": {
          "iopub.status.busy": "2021-09-15T12:01:27.933208Z",
          "iopub.execute_input": "2021-09-15T12:01:27.933571Z",
          "iopub.status.idle": "2021-09-15T12:01:28.150416Z",
          "shell.execute_reply.started": "2021-09-15T12:01:27.933528Z",
          "shell.execute_reply": "2021-09-15T12:01:28.14838Z"
        },
        "trusted": true,
        "id": "7QNvjwfyCfqR"
      },
      "execution_count": null,
      "outputs": []
    },
    {
      "cell_type": "code",
      "source": [
        "# Treemap Visualization\n",
        "df_treemap = rfm.groupby('segment').agg('count').reset_index()\n",
        "df_treemap.head()"
      ],
      "metadata": {
        "execution": {
          "iopub.status.busy": "2021-09-15T12:01:28.151645Z",
          "iopub.execute_input": "2021-09-15T12:01:28.151876Z",
          "iopub.status.idle": "2021-09-15T12:01:28.169409Z",
          "shell.execute_reply.started": "2021-09-15T12:01:28.151849Z",
          "shell.execute_reply": "2021-09-15T12:01:28.168084Z"
        },
        "trusted": true,
        "id": "nhZsUK45CfqR"
      },
      "execution_count": null,
      "outputs": []
    },
    {
      "cell_type": "code",
      "source": [
        "fig, ax = plt.subplots(1, figsize = (10,10))\n",
        "\n",
        "squarify.plot(sizes=df_treemap['RFM_SCORE'],\n",
        "              label=df_treemap['segment'],\n",
        "              alpha=.8,\n",
        "              color=['tab:red', 'tab:purple', 'tab:brown', 'tab:pink', 'tab:gray']\n",
        "             )\n",
        "plt.axis('off')\n",
        "plt.show()\n",
        "#plt.savefig('treemap.png')"
      ],
      "metadata": {
        "execution": {
          "iopub.status.busy": "2021-09-15T12:01:28.171352Z",
          "iopub.execute_input": "2021-09-15T12:01:28.171926Z",
          "iopub.status.idle": "2021-09-15T12:01:28.444709Z",
          "shell.execute_reply.started": "2021-09-15T12:01:28.171877Z",
          "shell.execute_reply": "2021-09-15T12:01:28.444015Z"
        },
        "trusted": true,
        "id": "XUdpPQMYCfqR"
      },
      "execution_count": null,
      "outputs": []
    },
    {
      "cell_type": "markdown",
      "source": [
        "<a id = \"19\"></a><br>\n",
        "# Customer Lifetime Value\n",
        "Customer lifetime value (CLV), a term sometimes used interchangeably with customer lifetime value, is the prediction of a company's net profit contributed to its overall future relationship with a customer. The model can be simple or sophisticated, depending on how complex the predictive analytics techniques are.\n",
        "\n",
        "Lifetime value is a critical metric because it represents the maximum amount that customers may be expected to spend in order to acquire new ones. As a result, it's crucial in determining the payback of marketing expenses used in marketing mix modeling.\n",
        "\n",
        "### Definition of CLTV\n",
        "> *The present value of the future cash flows attributed to the customer during his/her entire relationship with the company.!*\n",
        "\n",
        "\n",
        "This account represents a single time period. It represents the time when the analysis was done. Let me give such a projection that we can evaluate the issue with 3-month and 6-month projections.\n",
        "\n",
        "How can I make my inference? We will realize lifetime value with medium and long-term projections for individuals by including the specific pattern of the whole population, by extracting the conditional probability distribution, and generalizing them in terms of the characteristics of a particular individual.\n",
        "\n",
        "### Formula\n",
        "Probabilistic lifetime value estimation with time projection\n",
        "\n",
        "> CLTV =( Customer Value / Churn Rate) * Profit Margin\n",
        "\n",
        "> Customer Value = Purchase Frequency * Average Order Value\n",
        "\n",
        "> CLTV = Expected Number of Transaction * Expected Average Profit\n",
        "\n",
        "Above, purchase frequency and number of transaction mean the same thing. Likewise, Average Order Value and Average Profit mean the same thing. It differs with the Expected part that happens to them.\n",
        "\n",
        "**CAUTION**: It will add a probabilistic distribution. Expected statement refers to this part. Expected number of purchases, expected profitability.\n",
        "\n",
        "* BG / NBD = Expected Transaction\n",
        "* Gamma Gamma = Expected Profit\n",
        "\n",
        "## So How Do We Do That?\n",
        "We will add statistics and probability pattern to the above formula.\n",
        "There will be BG / NBD and Gamma Gamma models that will make this happen to us. These models will do such a thing that they will model the purchasing behavior of all customers of this company, after modeling the purchasing behavior of all customers, they will replace the individual's personal characteristics in this model and reduce the expected number of sales to the person from the general audience pattern.\n",
        "\n",
        "BG NBD and Gamma Gamma models are statistical models, not machine learning models. In fact, these models have the expression \"Conditional\" at the beginning.\n"
      ],
      "metadata": {
        "id": "AwvwTR8BCfqS"
      }
    },
    {
      "cell_type": "markdown",
      "source": [
        "<a id = \"20\"></a><br>\n",
        "## Preparation-Data Structure of CLTV\n",
        "* **recency**: the difference between the customer's last purchase and his first purchase\n",
        "* **T**: the age of the client in the company\n",
        "* **frequency**: total number of repeat purchases\n",
        "* **monetary_value**: average earnings per purchase"
      ],
      "metadata": {
        "id": "UAWnSMKxCfqS"
      }
    },
    {
      "cell_type": "code",
      "source": [
        "# Determining the analysis date for the recency\n",
        "df[\"InvoiceDate\"] = pd.to_datetime(df[\"InvoiceDate\"])\n",
        "df[\"InvoiceDate\"].max()\n",
        "today_date = dt.datetime(2011, 12, 11)"
      ],
      "metadata": {
        "execution": {
          "iopub.status.busy": "2021-09-15T12:01:28.445798Z",
          "iopub.execute_input": "2021-09-15T12:01:28.446198Z",
          "iopub.status.idle": "2021-09-15T12:01:28.487285Z",
          "shell.execute_reply.started": "2021-09-15T12:01:28.446167Z",
          "shell.execute_reply": "2021-09-15T12:01:28.486396Z"
        },
        "trusted": true,
        "id": "00Z58Z6dCfqS"
      },
      "execution_count": null,
      "outputs": []
    },
    {
      "cell_type": "code",
      "source": [
        "cltv_df = df.groupby('Customer ID').agg({'InvoiceDate': [lambda date: (date.max() - date.min()).days,\n",
        "                                                         lambda date: (today_date - date.min()).days],\n",
        "                                         'Invoice': lambda num: num.nunique(),\n",
        "                                         'TotalPrice': lambda TotalPrice: TotalPrice.sum()})\n",
        "\n",
        "\n",
        "cltv_df.columns = cltv_df.columns.droplevel(0)\n",
        "cltv_df.columns = ['recency', 'T', 'frequency', 'monetary']\n",
        "cltv_df.head()"
      ],
      "metadata": {
        "execution": {
          "iopub.status.busy": "2021-09-15T12:01:28.488689Z",
          "iopub.execute_input": "2021-09-15T12:01:28.488953Z",
          "iopub.status.idle": "2021-09-15T12:01:30.492792Z",
          "shell.execute_reply.started": "2021-09-15T12:01:28.488925Z",
          "shell.execute_reply": "2021-09-15T12:01:30.491869Z"
        },
        "trusted": true,
        "id": "gENYNlqCCfqT"
      },
      "execution_count": null,
      "outputs": []
    },
    {
      "cell_type": "code",
      "source": [
        "# monetary değerini toplam totalPrice olarak hesaplamıştık.\n",
        "# bu aşamada moneary değerini satın alma başına ortalama kazanç olarak ifade edeceğiz\n",
        "cltv_df[\"monetary\"] = cltv_df[\"monetary\"] / cltv_df[\"frequency\"]\n",
        "\n",
        "# monetary nin sıfırdan büyük olanlarının seçelimesi\n",
        "cltv_df = cltv_df[cltv_df[\"monetary\"] > 0]\n",
        "\n",
        "# BGNBD için recency ve T'nin haftalık cinsten ifade edilmesi\n",
        "cltv_df[\"recency\"] = cltv_df[\"recency\"] / 7\n",
        "cltv_df[\"T\"] = cltv_df[\"T\"] / 7\n",
        "\n",
        "# frequency nin 1 den büyük olanlarının seçilmesi\n",
        "cltv_df = cltv_df[(cltv_df['frequency'] > 1)]\n",
        "cltv_df.head()"
      ],
      "metadata": {
        "execution": {
          "iopub.status.busy": "2021-09-15T12:01:30.494104Z",
          "iopub.execute_input": "2021-09-15T12:01:30.494719Z",
          "iopub.status.idle": "2021-09-15T12:01:30.515582Z",
          "shell.execute_reply.started": "2021-09-15T12:01:30.494635Z",
          "shell.execute_reply": "2021-09-15T12:01:30.51461Z"
        },
        "trusted": true,
        "id": "erxN-NHNCfqT"
      },
      "execution_count": null,
      "outputs": []
    },
    {
      "cell_type": "markdown",
      "source": [
        "<a id = \"21\"></a><br>\n",
        "# BG-NBD Model\n",
        "\n",
        "BG / NBD (Beta Geometric / Negative Binominal Distribution) = Expected Number of Transaction\n",
        "\n",
        "### Buy Till You Die\n",
        "\n",
        "The BG/NBD Model probabilistically models two processes for the Expected Number of Transaction.\n",
        "> Transaction Process (Buy) + Dropout Process (Till You Die)\n",
        "\n",
        "#### Transaction Process (Buy)\n",
        "* As long as it is alive, the number of transactions to be performed by a client in a given time period is poisson distributed with the transaction rate parameter.\n",
        "* As long as a customer is alive, they will continue to make random purchases around their transaction rate.\n",
        "* Transaction rates vary according to each customer. They are **gamma dispersed** for the entire audience (r, a).\n",
        "\n",
        "\n",
        "So the buy process of the BG/NBD model indicates; I am modeling the purchasing activity of the whole audience with the gamma distribution.\n",
        "\n",
        "#### Dropout Process (Till You Die)\n",
        "* Each customer has a dropout rate (dropout probability) with probability p.\n",
        "* A customer drops with a certain probability after making a purchase. This is not a full churn, it may return after a certain time.\n",
        "* Dropout rates vary for each client and **beta is distributed** for the entire audience (a, b)."
      ],
      "metadata": {
        "id": "-e-HmTxXCfqT"
      }
    },
    {
      "cell_type": "markdown",
      "source": [
        "### Formula\n",
        "$E(Y(t)|X = x, t_x, T, r, \\alpha, a, b)=\\frac{a + b + x - 1}{a-1} X \\frac{ \\left[1 - \\left(\\frac{\\alpha + T}{\\alpha + T + t} \\right)^{r+x} 2F_1(r + x, b + x; a + b + x - 1; \\frac{t}{\\alpha + T + t} \\right]}\n",
        "{1 + \\partial_{(x>0)} \\frac{\\alpha}{b + x -1}\n",
        "\\left( \\frac{\\alpha + T}{alpha + t_x}   \\right)^{r+x}    } $"
      ],
      "metadata": {
        "id": "liWHCEr9CfqU"
      }
    },
    {
      "cell_type": "markdown",
      "source": [
        "* E refers to the expected value\n",
        "* | refers to that this probability is conditional (conditional expected number of transactions)\n",
        "* x refers to frequency for each customer who purchased at least 2 times.\n",
        "* tx refers to recency for each customer. In this case, we will assume the recency will be based on weeks. The time from the last purchasing date to the first purchasing date (weeks).\n",
        "* T refers to the time from today’s date to the last purchasing date (weeks).\n",
        "* r,α comes from the gamma distribution (buy process). Transaction rate of the mass.\n",
        "* a,b comes from the beta distribution (till you die process). The dropout rate of the mass.\n",
        "* Y(t) refers to the expected number of transactions for each customer."
      ],
      "metadata": {
        "id": "uwObPH-QCfqU"
      }
    },
    {
      "cell_type": "code",
      "source": [
        "bgf = BetaGeoFitter(penalizer_coef=0.001)\n",
        "bgf.fit(cltv_df['frequency'],\n",
        "        cltv_df['recency'],\n",
        "        cltv_df['T'])"
      ],
      "metadata": {
        "execution": {
          "iopub.status.busy": "2021-09-15T12:01:30.519037Z",
          "iopub.execute_input": "2021-09-15T12:01:30.519672Z",
          "iopub.status.idle": "2021-09-15T12:01:30.692188Z",
          "shell.execute_reply.started": "2021-09-15T12:01:30.519636Z",
          "shell.execute_reply": "2021-09-15T12:01:30.691307Z"
        },
        "trusted": true,
        "id": "g9Qauz68CfqU"
      },
      "execution_count": null,
      "outputs": []
    },
    {
      "cell_type": "code",
      "source": [
        "# 1 week expected purchase (transaction)\n",
        "cltv_df[\"expected_purc_1_week\"] = bgf.predict(1,\n",
        "                                               cltv_df['frequency'],\n",
        "                                               cltv_df['recency'],\n",
        "                                               cltv_df['T'])\n",
        "\n",
        "cltv_df.sort_values(\"expected_purc_1_week\", ascending=False).head(10)"
      ],
      "metadata": {
        "execution": {
          "iopub.status.busy": "2021-09-15T12:01:30.693639Z",
          "iopub.execute_input": "2021-09-15T12:01:30.694535Z",
          "iopub.status.idle": "2021-09-15T12:01:30.734832Z",
          "shell.execute_reply.started": "2021-09-15T12:01:30.694485Z",
          "shell.execute_reply": "2021-09-15T12:01:30.733892Z"
        },
        "trusted": true,
        "id": "rNGFqP0BCfqU"
      },
      "execution_count": null,
      "outputs": []
    },
    {
      "cell_type": "code",
      "source": [
        "# 1 month expected purchase\n",
        "cltv_df[\"expected_purc_1_month\"] = bgf.predict(4,\n",
        "                                               cltv_df['frequency'],\n",
        "                                               cltv_df['recency'],\n",
        "                                               cltv_df['T'])\n",
        "\n",
        "cltv_df.sort_values(\"expected_purc_1_month\", ascending=False).head(10)"
      ],
      "metadata": {
        "execution": {
          "iopub.status.busy": "2021-09-15T12:01:30.736343Z",
          "iopub.execute_input": "2021-09-15T12:01:30.73669Z",
          "iopub.status.idle": "2021-09-15T12:01:30.778231Z",
          "shell.execute_reply.started": "2021-09-15T12:01:30.736648Z",
          "shell.execute_reply": "2021-09-15T12:01:30.777196Z"
        },
        "trusted": true,
        "id": "i4LdVDJzCfqV"
      },
      "execution_count": null,
      "outputs": []
    },
    {
      "cell_type": "markdown",
      "source": [
        "<a id = \"22\"></a><br>\n",
        "# Gamma Gamma Model\n",
        "It is used to estimate how much profit a customer can generate on average per transaction.\n",
        "\n",
        "****What will the gamma gamma model do? ****\n",
        "\n",
        "It will output the Expected Average Profit. This means; The Expected Average Profit distribution will be modeled over the whole audience, and the Gamma Gamma Submodel will be conditionally giving us the Expected Average Profit for a person, taking into account the distribution of the whole audience, according to the characteristics of the person himself."
      ],
      "metadata": {
        "id": "i0eDmnv_CfqV"
      }
    },
    {
      "cell_type": "code",
      "source": [
        "ggf = GammaGammaFitter(penalizer_coef=0.01)\n",
        "ggf.fit(cltv_df['frequency'], cltv_df['monetary'])"
      ],
      "metadata": {
        "execution": {
          "iopub.status.busy": "2021-09-15T12:01:30.780062Z",
          "iopub.execute_input": "2021-09-15T12:01:30.780441Z",
          "iopub.status.idle": "2021-09-15T12:01:30.861198Z",
          "shell.execute_reply.started": "2021-09-15T12:01:30.780397Z",
          "shell.execute_reply": "2021-09-15T12:01:30.860139Z"
        },
        "trusted": true,
        "id": "kY94qvEMCfqV"
      },
      "execution_count": null,
      "outputs": []
    },
    {
      "cell_type": "code",
      "source": [
        "cltv_df[\"expected_average_profit\"] = ggf.conditional_expected_average_profit(cltv_df['frequency'],\n",
        "                                                                             cltv_df['monetary'])\n",
        "\n",
        "cltv_df.sort_values(\"expected_average_profit\", ascending=False).head(20)"
      ],
      "metadata": {
        "execution": {
          "iopub.status.busy": "2021-09-15T12:01:30.863098Z",
          "iopub.execute_input": "2021-09-15T12:01:30.86346Z",
          "iopub.status.idle": "2021-09-15T12:01:30.889683Z",
          "shell.execute_reply.started": "2021-09-15T12:01:30.863417Z",
          "shell.execute_reply": "2021-09-15T12:01:30.888816Z"
        },
        "trusted": true,
        "id": "k0w-Zzj2CfqW"
      },
      "execution_count": null,
      "outputs": []
    },
    {
      "cell_type": "markdown",
      "source": [
        "### Formula\n",
        "$E(M|p, q, \\gamma, m_x, x) =\n",
        "\\frac{(\\gamma + m_xx)p}{px + q -1} =\n",
        "\\left( \\frac {q-1}{px + q - 1} \\right)\n",
        "\\frac{\\gamma p}{q - 1} + \\left( \\frac{px}{px + q -1} \\right)\n",
        "m_x$"
      ],
      "metadata": {
        "id": "23BdpjlSCfqW"
      }
    },
    {
      "cell_type": "markdown",
      "source": [
        "* E refers to the expected value\n",
        "* x refers to frequency for each customer\n",
        "* mx refers to the monetary for each customer\n",
        "* M refers to the expected value of transactions (expected average profit)\n",
        "* p,q,γ comes from the gamma distribution"
      ],
      "metadata": {
        "id": "EL30PYR8CfqW"
      }
    },
    {
      "cell_type": "markdown",
      "source": [
        "<a id = \"23\"></a><br>\n",
        "## BG-NBD and GG Model For Prediction"
      ],
      "metadata": {
        "id": "wjWwTuU4CfqW"
      }
    },
    {
      "cell_type": "code",
      "source": [
        "cltv = ggf.customer_lifetime_value(bgf,\n",
        "                                   cltv_df['frequency'],\n",
        "                                   cltv_df['recency'],\n",
        "                                   cltv_df['T'],\n",
        "                                   cltv_df['monetary'],\n",
        "                                   time=6,  # 6 aylık\n",
        "                                   freq=\"W\",  # T'nin frekans bilgisi.\n",
        "                                   discount_rate=0.01)"
      ],
      "metadata": {
        "execution": {
          "iopub.status.busy": "2021-09-15T12:01:30.891462Z",
          "iopub.execute_input": "2021-09-15T12:01:30.892032Z",
          "iopub.status.idle": "2021-09-15T12:01:30.998664Z",
          "shell.execute_reply.started": "2021-09-15T12:01:30.891989Z",
          "shell.execute_reply": "2021-09-15T12:01:30.99802Z"
        },
        "trusted": true,
        "id": "FBtZ3OzECfqX"
      },
      "execution_count": null,
      "outputs": []
    },
    {
      "cell_type": "code",
      "source": [
        "# Reset index\n",
        "cltv = cltv.reset_index()\n",
        "# Merging the main table and the forecast values table\n",
        "cltv_final = cltv_df.merge(cltv, on=\"Customer ID\", how=\"left\")\n",
        "# sorting\n",
        "cltv_final.sort_values(by=\"clv\", ascending=False).head(10)"
      ],
      "metadata": {
        "execution": {
          "iopub.status.busy": "2021-09-15T12:01:31.000097Z",
          "iopub.execute_input": "2021-09-15T12:01:31.001049Z",
          "iopub.status.idle": "2021-09-15T12:01:31.029667Z",
          "shell.execute_reply.started": "2021-09-15T12:01:31.001011Z",
          "shell.execute_reply": "2021-09-15T12:01:31.028918Z"
        },
        "trusted": true,
        "id": "G4SY98e4CfqX"
      },
      "execution_count": null,
      "outputs": []
    },
    {
      "cell_type": "code",
      "source": [
        "# 1 Month CLTV:\n",
        "cltv_1 = ggf.customer_lifetime_value(bgf,\n",
        "                                   cltv_df['frequency'],\n",
        "                                   cltv_df['recency'],\n",
        "                                   cltv_df['T'],\n",
        "                                   cltv_df['monetary'],\n",
        "                                   time=1,  # 1 month\n",
        "                                   freq=\"W\",  # frequency of T\n",
        "                                   discount_rate=0.01)\n",
        "\n",
        "cltv_1.head()\n",
        "cltv_1= cltv_1.reset_index()\n",
        "cltv_1 = cltv_df.merge(cltv_1, on=\"Customer ID\", how=\"left\")\n",
        "cltv_1.sort_values(by=\"clv\", ascending=False).head(10)"
      ],
      "metadata": {
        "execution": {
          "iopub.status.busy": "2021-09-15T12:01:31.03076Z",
          "iopub.execute_input": "2021-09-15T12:01:31.031096Z",
          "iopub.status.idle": "2021-09-15T12:01:31.078292Z",
          "shell.execute_reply.started": "2021-09-15T12:01:31.031069Z",
          "shell.execute_reply": "2021-09-15T12:01:31.077624Z"
        },
        "trusted": true,
        "id": "wBEYM5V_CfqX"
      },
      "execution_count": null,
      "outputs": []
    },
    {
      "cell_type": "code",
      "source": [
        "# 12 Month CLTV Forecast:\n",
        "\n",
        "cltv_12 = ggf.customer_lifetime_value(bgf,\n",
        "                                   cltv_df['frequency'],\n",
        "                                   cltv_df['recency'],\n",
        "                                   cltv_df['T'],\n",
        "                                   cltv_df['monetary'],\n",
        "                                   time=12,  # 1 aylık\n",
        "                                   freq=\"W\",  # T'nin frekans bilgisi\n",
        "                                   discount_rate=0.01)\n",
        "\n",
        "cltv_12.head()\n",
        "cltv_12 = cltv_12.reset_index()\n",
        "cltv_12 = cltv_df.merge(cltv_12, on=\"Customer ID\", how=\"left\")\n",
        "cltv_12.sort_values(by=\"clv\", ascending=False).head(10)"
      ],
      "metadata": {
        "execution": {
          "iopub.status.busy": "2021-09-15T12:01:31.079465Z",
          "iopub.execute_input": "2021-09-15T12:01:31.079851Z",
          "iopub.status.idle": "2021-09-15T12:01:31.302512Z",
          "shell.execute_reply.started": "2021-09-15T12:01:31.07981Z",
          "shell.execute_reply": "2021-09-15T12:01:31.301675Z"
        },
        "trusted": true,
        "id": "i-A0ddBsCfqY"
      },
      "execution_count": null,
      "outputs": []
    },
    {
      "cell_type": "markdown",
      "source": [
        "<a id = \"24\"></a><br>\n",
        "# Segmentation on CLTV Forecasts"
      ],
      "metadata": {
        "id": "Wp4SKW_mCfqY"
      }
    },
    {
      "cell_type": "code",
      "source": [
        "# Normalization 0-1 Range For CLV Values\n",
        "scaler = MinMaxScaler(feature_range=(0, 1))\n",
        "scaler.fit(cltv_final[[\"clv\"]])\n",
        "cltv_final[\"scaled_clv\"] = scaler.transform(cltv_final[[\"clv\"]])\n",
        "\n",
        "cltv_final.sort_values(by=\"scaled_clv\", ascending=False).head()"
      ],
      "metadata": {
        "execution": {
          "iopub.status.busy": "2021-09-15T12:01:31.303855Z",
          "iopub.execute_input": "2021-09-15T12:01:31.304284Z",
          "iopub.status.idle": "2021-09-15T12:01:31.327654Z",
          "shell.execute_reply.started": "2021-09-15T12:01:31.304251Z",
          "shell.execute_reply": "2021-09-15T12:01:31.327016Z"
        },
        "trusted": true,
        "id": "xCzLovspCfqY"
      },
      "execution_count": null,
      "outputs": []
    },
    {
      "cell_type": "code",
      "source": [
        "# Segmentation of Customers\n",
        "cltv_final[\"segment\"] = pd.qcut(cltv_final[\"scaled_clv\"], 4, labels=[\"D\", \"C\", \"B\", \"A\"])\n",
        "cltv_final.head()\n",
        "\n",
        "cltv_final.head()"
      ],
      "metadata": {
        "execution": {
          "iopub.status.busy": "2021-09-15T12:01:31.328802Z",
          "iopub.execute_input": "2021-09-15T12:01:31.329075Z",
          "iopub.status.idle": "2021-09-15T12:01:31.365511Z",
          "shell.execute_reply.started": "2021-09-15T12:01:31.329045Z",
          "shell.execute_reply": "2021-09-15T12:01:31.3645Z"
        },
        "trusted": true,
        "id": "uA9ecYEkCfqY"
      },
      "execution_count": null,
      "outputs": []
    },
    {
      "cell_type": "code",
      "source": [
        "# Examination of Segments\n",
        "cltv_final.groupby(\"segment\").agg({\"count\", \"mean\", \"sum\"})"
      ],
      "metadata": {
        "execution": {
          "iopub.status.busy": "2021-09-15T12:01:31.366973Z",
          "iopub.execute_input": "2021-09-15T12:01:31.367213Z",
          "iopub.status.idle": "2021-09-15T12:01:31.423115Z",
          "shell.execute_reply.started": "2021-09-15T12:01:31.367185Z",
          "shell.execute_reply": "2021-09-15T12:01:31.422089Z"
        },
        "trusted": true,
        "id": "zzEOuDB7CfqZ"
      },
      "execution_count": null,
      "outputs": []
    },
    {
      "cell_type": "markdown",
      "source": [
        "<a id = \"25\"></a><br>\n",
        "# References\n",
        "* https://github.com/mvahit\n",
        "* https://www.veribilimiokulu.com/\n",
        "* https://www.linkedin.com/in/vahitkeskin/\n",
        "* https://github.com/mathchi\n",
        "* https://www.kaggle.com/haticeebraralc/crm-analytics\n",
        "* https://github.com/hebraralici\n",
        "* https://en.wikipedia.org/wiki/Customer_lifetime_value\n",
        "* https://en.wikipedia.org/wiki/RFM_(market_research)\n",
        "* https://mebaysan.medium.com/customer-life-time-value-prediction-by-using-bg-nbd-gamma-gamma-models-and-applied-example-in-997a5ee481ad"
      ],
      "metadata": {
        "id": "-eKjOus7CfqZ"
      }
    }
  ]
}